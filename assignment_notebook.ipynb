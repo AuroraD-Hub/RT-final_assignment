{
 "cells": [
  {
   "cell_type": "code",
   "execution_count": null,
   "id": "351bc0af",
   "metadata": {
    "ExecuteTime": {
     "end_time": "2022-05-04T15:41:29.259825Z",
     "start_time": "2022-05-04T15:41:29.233880Z"
    }
   },
   "outputs": [],
   "source": [
    "def odom_callback(msg):\n",
    "    \n",
    "    odom.pose.pose.position.x = msg.pose.pose.position.x\n",
    "    odom.pose.pose.position.y = msg.pose.pose.position.y"
   ]
  },
  {
   "cell_type": "code",
   "execution_count": null,
   "id": "2eff1a65",
   "metadata": {
    "ExecuteTime": {
     "end_time": "2022-05-04T15:41:29.658758Z",
     "start_time": "2022-05-04T15:41:29.266873Z"
    }
   },
   "outputs": [],
   "source": [
    "def get_var():\n",
    "\tclient.call(var)\n",
    "\t\n",
    "\t# Information about the status of the goal\n",
    "\tvar.response.s = var.request.succ\n",
    "\tvar.response.re = var.request.rej\n",
    "\t\n",
    "\t# Information about the minimum distances on the right, in front and on the left\n",
    "\tvar.response.ri = var.request.right\n",
    "\tvar.response.c = var.request.center\n",
    "\tvar.response.l = var.request.left\n",
    "\t\n",
    "\t# Information about the keyboard command\n",
    "\tvar.response.d = var.request.dir\n",
    "\t\n",
    "\t# Information about which controlling modality to use\n",
    "\tvar.response.m1 = var.request.mod1\n",
    "\tvar.response.m2 = var.request.mod2"
   ]
  },
  {
   "cell_type": "code",
   "execution_count": null,
   "id": "ee270862",
   "metadata": {
    "ExecuteTime": {
     "end_time": "2022-05-04T15:41:30.003668Z",
     "start_time": "2022-05-04T15:41:29.687005Z"
    }
   },
   "outputs": [],
   "source": [
    "def auto_move():\n",
    "\tcanc = GoalID()\n",
    "\tcanc = {}\n",
    "\t\n",
    "\tprint(\"You chose modality 1! \\n\")\n",
    "\tget_var()\n",
    "\t\n",
    "\t# Ask the user a new target position\n",
    "\tprint(\"Set x and y of new target position: \")\n",
    "\tbox = widgets.HBox(\n",
    "\t\t[\n",
    "\t\t\twidgets.FloatText(\n",
    "\t\t\t\tvalue = None,\n",
    "\t\t\t\tdescription = 'x: ',\n",
    "\t\t\t\tdisabled = False\n",
    "\t\t\t),\n",
    "\t\t\twidgets.FloatText(\n",
    "\t\t\t\tvalue = None,\n",
    "\t\t\t\tdescription = 'y: ',\n",
    "\t\t\t\tdisabled = False\n",
    "\t\t\t)\n",
    "\t\t]\n",
    "\t)\n",
    "    \n",
    "\tdef publish_target(change):\n",
    "\t\ttarget.goal.target_pose.pose.position.x = box[0].value\n",
    "\t\ttarget.goal.target_pose.pose.position.y = box[1].value\n",
    "\t\tpub_goal.publish(target)\n",
    "        \n",
    "\tdisplay(box, output)\n",
    "\tbox.observe(publish_target, name='value')\n",
    "    \n",
    "\t# Drive the robot towards target\n",
    "\twhile (var.response.s!=1):\n",
    "\t\tvar.request.mod1 = 0\n",
    "\t\tclient.call(var)\n",
    "\t\n",
    "\t# Control if the target is unreachable and eventually cancel it, otherwise ask the user \n",
    "\t#  if he/she wants to cancel it\n",
    "\tif (var.response.re==1): # target is unreachable\n",
    "\t\tprint(\"Goal cannot be reached!\")\n",
    "\t\tpub_canc.publish(canc)\n",
    "\telse: # asking the user if target has to be cancelled\n",
    "\t\tchoose_to_canc = widgets.RadioButtons(\n",
    "\t\t\toptions = ['Yes', 'No'],\n",
    "\t\t\tlayout = {'width': 'max-content'},\n",
    "\t\t\tdescription = 'Do you want to cancel this goal?',\n",
    "\t\t\tdisabled = False,\n",
    "\t\t\tvalue = None\n",
    "\t\t)\n",
    "        \n",
    "\t\tdef cancelling(change):\n",
    "\t\t\tif (choose_to_canc.value=='Yes'): # the user wants to cancel it\n",
    "\t\t\t\tpub_canc.publish(canc)\n",
    "\t\t\t\tprint(\"Goal cancelled\")\n",
    "\t\t\telse:\n",
    "\t\t\t\tprint(\"Ok, going towards the goal\")\n",
    "                \n",
    "\t\tdisplay(choose_to_canc, output)\n",
    "\t\tchoose_to_canc.observe(cancelling, name=['value'])"
   ]
  },
  {
   "cell_type": "code",
   "execution_count": null,
   "id": "f0c16a71",
   "metadata": {
    "ExecuteTime": {
     "end_time": "2022-05-04T15:41:30.374257Z",
     "start_time": "2022-05-04T15:41:30.006878Z"
    }
   },
   "outputs": [],
   "source": [
    "def drive_alone():\n",
    "    \n",
    "\tprint(\"You chose modality 2! \\n\")\n",
    "\t\n",
    "\tget_var()\n",
    "\t\n",
    "\tprint(\"Use keyboard to move the robot:\")\n",
    "\twhile (var.response.d!='q'):\n",
    "\t\tvar.request.mod2 = 1\n",
    "\t\tclient.call(var)"
   ]
  },
  {
   "cell_type": "code",
   "execution_count": null,
   "id": "a669514f",
   "metadata": {
    "ExecuteTime": {
     "end_time": "2022-05-04T15:41:30.670723Z",
     "start_time": "2022-05-04T15:41:30.378000Z"
    }
   },
   "outputs": [],
   "source": [
    "def drive_assistance():\n",
    "    \n",
    "\tprint(\"You chose modality 3! \\n\")\n",
    "\t\n",
    "\tget_var()\n",
    "\t\n",
    "\tprint(\"Use keyboard to move the robot:\")\n",
    "\twhile (var.response.d!='q'):\n",
    "\t\tvar.request.mod1 = 0\n",
    "\t\tclient.call(var)\n",
    "\t\tvar.request.mod2 = 1\n",
    "\t\tclient.call(var)"
   ]
  },
  {
   "cell_type": "code",
   "execution_count": null,
   "id": "64f7e402",
   "metadata": {
    "ExecuteTime": {
     "end_time": "2022-05-04T15:41:30.958004Z",
     "start_time": "2022-05-04T15:41:30.677318Z"
    }
   },
   "outputs": [],
   "source": [
    "def ui_decide():\n",
    "\t\n",
    "\tchoose_mod = widgets.RadioButtons(\n",
    "\t\toptions = ['robot moves autonomously to goal', 'drive the robot to goal', 'drive the robot with assistance to goal'],\n",
    "\t\tlayout = {'width': 'max-content'},\n",
    "\t\tdescription = 'Choose:',\n",
    "\t\tdisabled = False,\n",
    "        value = None\n",
    "\t)\n",
    "    \n",
    "\tdef choosing(change):\n",
    "\t\tif (choose_mod.value=='robot moves autonomously to goal'):\n",
    "\t\t\tauto_move()\n",
    "\t\telif (choose_mod.value=='drive the robot to goal'):\n",
    " \t\t\tdrive_alone()\n",
    "\t\telif (choose_mod.value=='drive the robot with assistance to goal'):\n",
    "\t\t\tdrive_assistance()\n",
    "\t\telse:\n",
    "\t\t\tprint(\"This modality doesn't exist.\")\n",
    "        \n",
    "\tdisplay(choose_mod, output)\n",
    "\tchoose_mod.observe(choosing, names=['value'])"
   ]
  },
  {
   "cell_type": "code",
   "execution_count": null,
   "id": "9d7dd7ae",
   "metadata": {
    "ExecuteTime": {
     "end_time": "2022-05-04T15:41:31.443536Z",
     "start_time": "2022-05-04T15:41:30.961899Z"
    }
   },
   "outputs": [],
   "source": [
    "def plot_robot_data():\n",
    "\n",
    "    x_odom = odom.pose.pose.position.x\n",
    "    y_odom = odom.pose.pose.position.y\n",
    "    ax_odom.plot(x_odom,y_odom)\n",
    "    plt.show()"
   ]
  },
  {
   "cell_type": "code",
   "execution_count": null,
   "id": "4dd36c87",
   "metadata": {
    "ExecuteTime": {
     "end_time": "2022-05-04T15:41:31.742667Z",
     "start_time": "2022-05-04T15:41:31.449884Z"
    }
   },
   "outputs": [],
   "source": [
    "def plot_target_data():\n",
    "    \n",
    "    #%matplotlib widget\n",
    "    x_target = target.goal.target_pose.pose.position.x\n",
    "    y_target = target.goal.target_pose.pose.position.y\n",
    "    fig_target = plt.figure()\n",
    "    ax_target = fig_target.add_axes([0,0,1,1])\n",
    "    ax_target.plot(x_target,y_target,'*')\n",
    "    ax_target.set_title(\"Target position\")\n",
    "    ax_target.set_xlabel(\"x [m]\")\n",
    "    ax_target.set_ylabel(\"y [m]\")"
   ]
  },
  {
   "cell_type": "code",
   "execution_count": null,
   "id": "7045b255",
   "metadata": {
    "ExecuteTime": {
     "end_time": "2022-05-04T15:41:32.074520Z",
     "start_time": "2022-05-04T15:41:31.745493Z"
    }
   },
   "outputs": [],
   "source": [
    "def interface():\n",
    "    rospy.init_node(\"user_interface\")\n",
    "    \n",
    "    global pub_goal\n",
    "    global pub_canc\n",
    "    global client\n",
    "    global sub_odom\n",
    "    \n",
    "    pub_goal = rospy.Publisher(\"/move_base/goal\", MoveBaseActionGoal, queue_size=10)\n",
    "    pub_canc = rospy.Publisher(\"/move_base/cancel\", GoalID, queue_size=10)\n",
    "    client = rospy.ServiceProxy(\"/service\", Callbacks_srv)\n",
    "    sub_odom = rospy.Subscriber(\"/odom\", Odometry, odom_callback)    \n",
    "    \n",
    "    while(1):\n",
    "    #ui_decide()\n",
    "        plot_robot_data()\n",
    "    #plot_target_data()"
   ]
  },
  {
   "cell_type": "code",
   "execution_count": null,
   "id": "6fc7778c",
   "metadata": {
    "ExecuteTime": {
     "start_time": "2022-05-04T15:41:29.366Z"
    }
   },
   "outputs": [],
   "source": [
    "import sys\n",
    "sys.path.append('/root/ros_ws/src/RT1-III_assignment')\n",
    "\n",
    "import final_assignment\n",
    "import jupyros as jr\n",
    "from jupyros import ros3d\n",
    "import os\n",
    "import rospy\n",
    "import matplotlib.pyplot as plt\n",
    "import ipywidgets as widgets\n",
    "\n",
    "from nav_msgs.msg import Odometry\n",
    "from move_base_msgs.msg import MoveBaseActionGoal\n",
    "from actionlib_msgs.msg import GoalID\n",
    "from final_srv.srv import Callbacks_srv\n",
    "\n",
    "var = Callbacks_srv()\n",
    "odom = Odometry()\n",
    "target = MoveBaseActionGoal()\n",
    "\n",
    "output = widgets.Output()\n",
    "\n",
    "# Modo 2:\n",
    "# fig_odom = plt.figure()\n",
    "# ax_odom = fig_odom.add_axes([0,0,5,5])\n",
    "# ax_odom.set_title(\"Robot position\")\n",
    "# ax_odom.set_xlabel(\"x [m]\")\n",
    "# ax_odom.set_ylabel(\"y [m]\")\n",
    "\n",
    "%matplotlib widget\n",
    "fig_odom = plt.figure()\n",
    "ax_odom = fig_odom.add_axes([0,0,2,2])\n",
    "ax_odom.set_title(\"Robot position\")\n",
    "ax_odom.set_xlabel(\"x [m]\")\n",
    "ax_odom.set_ylabel(\"y [m]\")\n",
    "\n",
    "interface()"
   ]
  }
 ],
 "metadata": {
  "kernelspec": {
   "display_name": "Python 3 (ipykernel)",
   "language": "python",
   "name": "python3"
  },
  "language_info": {
   "codemirror_mode": {
    "name": "ipython",
    "version": 3
   },
   "file_extension": ".py",
   "mimetype": "text/x-python",
   "name": "python",
   "nbconvert_exporter": "python",
   "pygments_lexer": "ipython3",
   "version": "3.8.5"
  },
  "toc": {
   "base_numbering": 1,
   "nav_menu": {},
   "number_sections": true,
   "sideBar": true,
   "skip_h1_title": false,
   "title_cell": "Table of Contents",
   "title_sidebar": "Contents",
   "toc_cell": false,
   "toc_position": {},
   "toc_section_display": true,
   "toc_window_display": false
  },
  "varInspector": {
   "cols": {
    "lenName": 16,
    "lenType": 16,
    "lenVar": 40
   },
   "kernels_config": {
    "python": {
     "delete_cmd_postfix": "",
     "delete_cmd_prefix": "del ",
     "library": "var_list.py",
     "varRefreshCmd": "print(var_dic_list())"
    },
    "r": {
     "delete_cmd_postfix": ") ",
     "delete_cmd_prefix": "rm(",
     "library": "var_list.r",
     "varRefreshCmd": "cat(var_dic_list()) "
    }
   },
   "types_to_exclude": [
    "module",
    "function",
    "builtin_function_or_method",
    "instance",
    "_Feature"
   ],
   "window_display": false
  }
 },
 "nbformat": 4,
 "nbformat_minor": 5
}
